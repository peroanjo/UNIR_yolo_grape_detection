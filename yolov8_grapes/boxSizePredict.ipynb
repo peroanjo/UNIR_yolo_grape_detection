{
 "cells": [
  {
   "cell_type": "code",
   "execution_count": 1,
   "metadata": {},
   "outputs": [],
   "source": [
    "## Cálculo del tamaño de los bounding boxes"
   ]
  },
  {
   "cell_type": "code",
   "execution_count": 2,
   "metadata": {},
   "outputs": [],
   "source": [
    "import torch\n",
    "from ultralytics import YOLO\n",
    "torch.has_mps\n",
    "import torchvision"
   ]
  },
  {
   "cell_type": "code",
   "execution_count": 3,
   "metadata": {},
   "outputs": [
    {
     "data": {
      "text/plain": [
       "'1.12.1'"
      ]
     },
     "execution_count": 3,
     "metadata": {},
     "output_type": "execute_result"
    }
   ],
   "source": [
    "torch.__version__"
   ]
  },
  {
   "cell_type": "code",
   "execution_count": 4,
   "metadata": {},
   "outputs": [
    {
     "data": {
      "text/plain": [
       "'0.13.1a0'"
      ]
     },
     "execution_count": 4,
     "metadata": {},
     "output_type": "execute_result"
    }
   ],
   "source": [
    "torchvision.__version__"
   ]
  },
  {
   "cell_type": "code",
   "execution_count": 5,
   "metadata": {},
   "outputs": [],
   "source": [
    "model_grapes = YOLO(r\"C:\\Users\\danim\\Documents\\yolov8_grapes\\runs\\detect\\grape_detector\\weights\\best.pt\")\n",
    "model_qr = YOLO(r\"C:\\Users\\danim\\Documents\\yolov8_grapes\\runs\\detect\\qr_detector\\weights\\best.pt\")"
   ]
  },
  {
   "cell_type": "code",
   "execution_count": 9,
   "metadata": {},
   "outputs": [],
   "source": [
    "images_path = r\"C:\\Users\\danim\\Documents\\yolov8_grapes\\dataset_qr\\valid\\images\""
   ]
  },
  {
   "cell_type": "code",
   "execution_count": 10,
   "metadata": {},
   "outputs": [
    {
     "name": "stderr",
     "output_type": "stream",
     "text": [
      "\n",
      "image 1/4 C:\\Users\\danim\\Documents\\yolov8_grapes\\dataset_qr\\valid\\images\\1597909019965_jpg.rf.94d33200a8e360888643563944931bf0.jpg: 800x608 4 grapes, 224.0ms\n",
      "image 2/4 C:\\Users\\danim\\Documents\\yolov8_grapes\\dataset_qr\\valid\\images\\1597911008306_jpg.rf.4c0c6c9d29bef46c581f18c12e755d24.jpg: 800x608 9 grapes, 275.4ms\n",
      "image 3/4 C:\\Users\\danim\\Documents\\yolov8_grapes\\dataset_qr\\valid\\images\\1597913693056_jpg.rf.927c3efe77b160783c349484c76be2b6.jpg: 800x608 7 grapes, 272.3ms\n",
      "image 4/4 C:\\Users\\danim\\Documents\\yolov8_grapes\\dataset_qr\\valid\\images\\1597915138046_jpg.rf.605f53638a84d37e2986d1232064dc5a.jpg: 608x800 9 grapes, 248.9ms\n",
      "Speed: 8.1ms preprocess, 255.1ms inference, 0.2ms postprocess per image at shape (1, 3, 800, 800)\n"
     ]
    }
   ],
   "source": [
    "results_grapes = model_grapes.predict(source=images_path, save=False, save_txt=False, agnostic_nms=False, iou=0.25, line_width=5, conf=0.3, show_labels=True)"
   ]
  },
  {
   "cell_type": "code",
   "execution_count": 11,
   "metadata": {},
   "outputs": [
    {
     "name": "stderr",
     "output_type": "stream",
     "text": [
      "\n",
      "image 1/4 C:\\Users\\danim\\Documents\\yolov8_grapes\\dataset_qr\\valid\\images\\1597909019965_jpg.rf.94d33200a8e360888643563944931bf0.jpg: 800x608 2 QRs, 288.2ms\n",
      "image 2/4 C:\\Users\\danim\\Documents\\yolov8_grapes\\dataset_qr\\valid\\images\\1597911008306_jpg.rf.4c0c6c9d29bef46c581f18c12e755d24.jpg: 800x608 2 QRs, 210.6ms\n",
      "image 3/4 C:\\Users\\danim\\Documents\\yolov8_grapes\\dataset_qr\\valid\\images\\1597913693056_jpg.rf.927c3efe77b160783c349484c76be2b6.jpg: 800x608 2 QRs, 265.5ms\n",
      "image 4/4 C:\\Users\\danim\\Documents\\yolov8_grapes\\dataset_qr\\valid\\images\\1597915138046_jpg.rf.605f53638a84d37e2986d1232064dc5a.jpg: 608x800 2 QRs, 240.9ms\n",
      "Speed: 7.8ms preprocess, 251.3ms inference, 2.7ms postprocess per image at shape (1, 3, 800, 800)\n"
     ]
    }
   ],
   "source": [
    "results_qr = model_qr.predict(source=images_path, save=False, save_txt=False, agnostic_nms=False, iou=0.25, line_width=5, conf=0.01, show_labels=True)"
   ]
  },
  {
   "cell_type": "code",
   "execution_count": 108,
   "metadata": {},
   "outputs": [],
   "source": [
    "QR_AREA = 19 * 19 # cm^2"
   ]
  },
  {
   "cell_type": "code",
   "execution_count": 110,
   "metadata": {},
   "outputs": [
    {
     "name": "stderr",
     "output_type": "stream",
     "text": [
      "C:\\Users\\danim\\AppData\\Local\\Temp\\ipykernel_19904\\3647278603.py:23: FutureWarning: The frame.append method is deprecated and will be removed from pandas in a future version. Use pandas.concat instead.\n",
      "  df_qr = df_qr.append({'image': image, 'area(pixels)': area, 'avg_area': avg_area, 'ratio': ratio}, ignore_index=True)\n",
      "C:\\Users\\danim\\AppData\\Local\\Temp\\ipykernel_19904\\3647278603.py:23: FutureWarning: The frame.append method is deprecated and will be removed from pandas in a future version. Use pandas.concat instead.\n",
      "  df_qr = df_qr.append({'image': image, 'area(pixels)': area, 'avg_area': avg_area, 'ratio': ratio}, ignore_index=True)\n",
      "C:\\Users\\danim\\AppData\\Local\\Temp\\ipykernel_19904\\3647278603.py:23: FutureWarning: The frame.append method is deprecated and will be removed from pandas in a future version. Use pandas.concat instead.\n",
      "  df_qr = df_qr.append({'image': image, 'area(pixels)': area, 'avg_area': avg_area, 'ratio': ratio}, ignore_index=True)\n",
      "C:\\Users\\danim\\AppData\\Local\\Temp\\ipykernel_19904\\3647278603.py:23: FutureWarning: The frame.append method is deprecated and will be removed from pandas in a future version. Use pandas.concat instead.\n",
      "  df_qr = df_qr.append({'image': image, 'area(pixels)': area, 'avg_area': avg_area, 'ratio': ratio}, ignore_index=True)\n"
     ]
    },
    {
     "data": {
      "text/html": [
       "<div>\n",
       "<style scoped>\n",
       "    .dataframe tbody tr th:only-of-type {\n",
       "        vertical-align: middle;\n",
       "    }\n",
       "\n",
       "    .dataframe tbody tr th {\n",
       "        vertical-align: top;\n",
       "    }\n",
       "\n",
       "    .dataframe thead th {\n",
       "        text-align: right;\n",
       "    }\n",
       "</style>\n",
       "<table border=\"1\" class=\"dataframe\">\n",
       "  <thead>\n",
       "    <tr style=\"text-align: right;\">\n",
       "      <th></th>\n",
       "      <th>image</th>\n",
       "      <th>area(pixels)</th>\n",
       "      <th>avg_area</th>\n",
       "      <th>ratio</th>\n",
       "    </tr>\n",
       "  </thead>\n",
       "  <tbody>\n",
       "    <tr>\n",
       "      <th>0</th>\n",
       "      <td>1597909019965_jpg.rf.94d33200a8e36088864356394...</td>\n",
       "      <td>[28366.198487393558, 27009.106378912926]</td>\n",
       "      <td>27687.652433</td>\n",
       "      <td>76.697098</td>\n",
       "    </tr>\n",
       "    <tr>\n",
       "      <th>1</th>\n",
       "      <td>1597911008306_jpg.rf.4c0c6c9d29bef46c581f18c12...</td>\n",
       "      <td>[23996.003589630127, 19832.747802883387]</td>\n",
       "      <td>21914.375696</td>\n",
       "      <td>60.704642</td>\n",
       "    </tr>\n",
       "    <tr>\n",
       "      <th>2</th>\n",
       "      <td>1597913693056_jpg.rf.927c3efe77b160783c349484c...</td>\n",
       "      <td>[18867.02387496829, 20868.272033929825]</td>\n",
       "      <td>19867.647954</td>\n",
       "      <td>55.035036</td>\n",
       "    </tr>\n",
       "    <tr>\n",
       "      <th>3</th>\n",
       "      <td>1597915138046_jpg.rf.605f53638a84d37e2986d1232...</td>\n",
       "      <td>[21716.994204610586, 17623.704013824463]</td>\n",
       "      <td>19670.349109</td>\n",
       "      <td>54.488502</td>\n",
       "    </tr>\n",
       "  </tbody>\n",
       "</table>\n",
       "</div>"
      ],
      "text/plain": [
       "                                               image  \\\n",
       "0  1597909019965_jpg.rf.94d33200a8e36088864356394...   \n",
       "1  1597911008306_jpg.rf.4c0c6c9d29bef46c581f18c12...   \n",
       "2  1597913693056_jpg.rf.927c3efe77b160783c349484c...   \n",
       "3  1597915138046_jpg.rf.605f53638a84d37e2986d1232...   \n",
       "\n",
       "                               area(pixels)      avg_area      ratio  \n",
       "0  [28366.198487393558, 27009.106378912926]  27687.652433  76.697098  \n",
       "1  [23996.003589630127, 19832.747802883387]  21914.375696  60.704642  \n",
       "2   [18867.02387496829, 20868.272033929825]  19867.647954  55.035036  \n",
       "3  [21716.994204610586, 17623.704013824463]  19670.349109  54.488502  "
      ]
     },
     "execution_count": 110,
     "metadata": {},
     "output_type": "execute_result"
    }
   ],
   "source": [
    "results_qr[0][1].boxes[0].xyxy.tolist()\n",
    "\n",
    "import pandas as pd\n",
    "\n",
    "df_qr = pd.DataFrame(columns=['image','area(pixels)', 'avg_area'])\n",
    "\n",
    "image = results_qr[0][1].path.split('\\\\')[-1]\n",
    "\n",
    "bbox = results_qr[0].boxes[0].xyxy.tolist()\n",
    "\n",
    "#print(bbox)\n",
    "\n",
    "len(results_qr[0].boxes)\n",
    "\n",
    "for i in range(len(results_qr)):\n",
    "    image = results_qr[i][1].path.split('\\\\')[-1]\n",
    "    area = []\n",
    "    for j in range(len(results_qr[i].boxes)):\n",
    "        bbox = results_qr[i].boxes[j].xyxy.tolist()[0]\n",
    "        area.append((bbox[2] - bbox[0]) * (bbox[3] - bbox[1]))\n",
    "    avg_area = sum(area) / len(area)\n",
    "    ratio = avg_area / QR_AREA\n",
    "    df_qr = df_qr.append({'image': image, 'area(pixels)': area, 'avg_area': avg_area, 'ratio': ratio}, ignore_index=True)\n",
    "\n",
    "df_qr.head(10)"
   ]
  },
  {
   "attachments": {},
   "cell_type": "markdown",
   "metadata": {},
   "source": [
    "Ahora calculamos el area en píxeles para las uvas correspondientes a las fotos."
   ]
  },
  {
   "cell_type": "code",
   "execution_count": 119,
   "metadata": {},
   "outputs": [
    {
     "name": "stderr",
     "output_type": "stream",
     "text": [
      "C:\\Users\\danim\\AppData\\Local\\Temp\\ipykernel_19904\\3517526329.py:11: FutureWarning: The frame.append method is deprecated and will be removed from pandas in a future version. Use pandas.concat instead.\n",
      "  df_grapes = df_grapes.append({'image': image, 'bbox': j, 'area(pixels)': area, 'ratio': ratio, 'area_cm^2': area_cm}, ignore_index=True)\n",
      "C:\\Users\\danim\\AppData\\Local\\Temp\\ipykernel_19904\\3517526329.py:11: FutureWarning: The frame.append method is deprecated and will be removed from pandas in a future version. Use pandas.concat instead.\n",
      "  df_grapes = df_grapes.append({'image': image, 'bbox': j, 'area(pixels)': area, 'ratio': ratio, 'area_cm^2': area_cm}, ignore_index=True)\n",
      "C:\\Users\\danim\\AppData\\Local\\Temp\\ipykernel_19904\\3517526329.py:11: FutureWarning: The frame.append method is deprecated and will be removed from pandas in a future version. Use pandas.concat instead.\n",
      "  df_grapes = df_grapes.append({'image': image, 'bbox': j, 'area(pixels)': area, 'ratio': ratio, 'area_cm^2': area_cm}, ignore_index=True)\n",
      "C:\\Users\\danim\\AppData\\Local\\Temp\\ipykernel_19904\\3517526329.py:11: FutureWarning: The frame.append method is deprecated and will be removed from pandas in a future version. Use pandas.concat instead.\n",
      "  df_grapes = df_grapes.append({'image': image, 'bbox': j, 'area(pixels)': area, 'ratio': ratio, 'area_cm^2': area_cm}, ignore_index=True)\n",
      "C:\\Users\\danim\\AppData\\Local\\Temp\\ipykernel_19904\\3517526329.py:11: FutureWarning: The frame.append method is deprecated and will be removed from pandas in a future version. Use pandas.concat instead.\n",
      "  df_grapes = df_grapes.append({'image': image, 'bbox': j, 'area(pixels)': area, 'ratio': ratio, 'area_cm^2': area_cm}, ignore_index=True)\n",
      "C:\\Users\\danim\\AppData\\Local\\Temp\\ipykernel_19904\\3517526329.py:11: FutureWarning: The frame.append method is deprecated and will be removed from pandas in a future version. Use pandas.concat instead.\n",
      "  df_grapes = df_grapes.append({'image': image, 'bbox': j, 'area(pixels)': area, 'ratio': ratio, 'area_cm^2': area_cm}, ignore_index=True)\n",
      "C:\\Users\\danim\\AppData\\Local\\Temp\\ipykernel_19904\\3517526329.py:11: FutureWarning: The frame.append method is deprecated and will be removed from pandas in a future version. Use pandas.concat instead.\n",
      "  df_grapes = df_grapes.append({'image': image, 'bbox': j, 'area(pixels)': area, 'ratio': ratio, 'area_cm^2': area_cm}, ignore_index=True)\n",
      "C:\\Users\\danim\\AppData\\Local\\Temp\\ipykernel_19904\\3517526329.py:11: FutureWarning: The frame.append method is deprecated and will be removed from pandas in a future version. Use pandas.concat instead.\n",
      "  df_grapes = df_grapes.append({'image': image, 'bbox': j, 'area(pixels)': area, 'ratio': ratio, 'area_cm^2': area_cm}, ignore_index=True)\n",
      "C:\\Users\\danim\\AppData\\Local\\Temp\\ipykernel_19904\\3517526329.py:11: FutureWarning: The frame.append method is deprecated and will be removed from pandas in a future version. Use pandas.concat instead.\n",
      "  df_grapes = df_grapes.append({'image': image, 'bbox': j, 'area(pixels)': area, 'ratio': ratio, 'area_cm^2': area_cm}, ignore_index=True)\n",
      "C:\\Users\\danim\\AppData\\Local\\Temp\\ipykernel_19904\\3517526329.py:11: FutureWarning: The frame.append method is deprecated and will be removed from pandas in a future version. Use pandas.concat instead.\n",
      "  df_grapes = df_grapes.append({'image': image, 'bbox': j, 'area(pixels)': area, 'ratio': ratio, 'area_cm^2': area_cm}, ignore_index=True)\n",
      "C:\\Users\\danim\\AppData\\Local\\Temp\\ipykernel_19904\\3517526329.py:11: FutureWarning: The frame.append method is deprecated and will be removed from pandas in a future version. Use pandas.concat instead.\n",
      "  df_grapes = df_grapes.append({'image': image, 'bbox': j, 'area(pixels)': area, 'ratio': ratio, 'area_cm^2': area_cm}, ignore_index=True)\n",
      "C:\\Users\\danim\\AppData\\Local\\Temp\\ipykernel_19904\\3517526329.py:11: FutureWarning: The frame.append method is deprecated and will be removed from pandas in a future version. Use pandas.concat instead.\n",
      "  df_grapes = df_grapes.append({'image': image, 'bbox': j, 'area(pixels)': area, 'ratio': ratio, 'area_cm^2': area_cm}, ignore_index=True)\n",
      "C:\\Users\\danim\\AppData\\Local\\Temp\\ipykernel_19904\\3517526329.py:11: FutureWarning: The frame.append method is deprecated and will be removed from pandas in a future version. Use pandas.concat instead.\n",
      "  df_grapes = df_grapes.append({'image': image, 'bbox': j, 'area(pixels)': area, 'ratio': ratio, 'area_cm^2': area_cm}, ignore_index=True)\n",
      "C:\\Users\\danim\\AppData\\Local\\Temp\\ipykernel_19904\\3517526329.py:11: FutureWarning: The frame.append method is deprecated and will be removed from pandas in a future version. Use pandas.concat instead.\n",
      "  df_grapes = df_grapes.append({'image': image, 'bbox': j, 'area(pixels)': area, 'ratio': ratio, 'area_cm^2': area_cm}, ignore_index=True)\n",
      "C:\\Users\\danim\\AppData\\Local\\Temp\\ipykernel_19904\\3517526329.py:11: FutureWarning: The frame.append method is deprecated and will be removed from pandas in a future version. Use pandas.concat instead.\n",
      "  df_grapes = df_grapes.append({'image': image, 'bbox': j, 'area(pixels)': area, 'ratio': ratio, 'area_cm^2': area_cm}, ignore_index=True)\n",
      "C:\\Users\\danim\\AppData\\Local\\Temp\\ipykernel_19904\\3517526329.py:11: FutureWarning: The frame.append method is deprecated and will be removed from pandas in a future version. Use pandas.concat instead.\n",
      "  df_grapes = df_grapes.append({'image': image, 'bbox': j, 'area(pixels)': area, 'ratio': ratio, 'area_cm^2': area_cm}, ignore_index=True)\n",
      "C:\\Users\\danim\\AppData\\Local\\Temp\\ipykernel_19904\\3517526329.py:11: FutureWarning: The frame.append method is deprecated and will be removed from pandas in a future version. Use pandas.concat instead.\n",
      "  df_grapes = df_grapes.append({'image': image, 'bbox': j, 'area(pixels)': area, 'ratio': ratio, 'area_cm^2': area_cm}, ignore_index=True)\n",
      "C:\\Users\\danim\\AppData\\Local\\Temp\\ipykernel_19904\\3517526329.py:11: FutureWarning: The frame.append method is deprecated and will be removed from pandas in a future version. Use pandas.concat instead.\n",
      "  df_grapes = df_grapes.append({'image': image, 'bbox': j, 'area(pixels)': area, 'ratio': ratio, 'area_cm^2': area_cm}, ignore_index=True)\n",
      "C:\\Users\\danim\\AppData\\Local\\Temp\\ipykernel_19904\\3517526329.py:11: FutureWarning: The frame.append method is deprecated and will be removed from pandas in a future version. Use pandas.concat instead.\n",
      "  df_grapes = df_grapes.append({'image': image, 'bbox': j, 'area(pixels)': area, 'ratio': ratio, 'area_cm^2': area_cm}, ignore_index=True)\n",
      "C:\\Users\\danim\\AppData\\Local\\Temp\\ipykernel_19904\\3517526329.py:11: FutureWarning: The frame.append method is deprecated and will be removed from pandas in a future version. Use pandas.concat instead.\n",
      "  df_grapes = df_grapes.append({'image': image, 'bbox': j, 'area(pixels)': area, 'ratio': ratio, 'area_cm^2': area_cm}, ignore_index=True)\n",
      "C:\\Users\\danim\\AppData\\Local\\Temp\\ipykernel_19904\\3517526329.py:11: FutureWarning: The frame.append method is deprecated and will be removed from pandas in a future version. Use pandas.concat instead.\n",
      "  df_grapes = df_grapes.append({'image': image, 'bbox': j, 'area(pixels)': area, 'ratio': ratio, 'area_cm^2': area_cm}, ignore_index=True)\n",
      "C:\\Users\\danim\\AppData\\Local\\Temp\\ipykernel_19904\\3517526329.py:11: FutureWarning: The frame.append method is deprecated and will be removed from pandas in a future version. Use pandas.concat instead.\n",
      "  df_grapes = df_grapes.append({'image': image, 'bbox': j, 'area(pixels)': area, 'ratio': ratio, 'area_cm^2': area_cm}, ignore_index=True)\n",
      "C:\\Users\\danim\\AppData\\Local\\Temp\\ipykernel_19904\\3517526329.py:11: FutureWarning: The frame.append method is deprecated and will be removed from pandas in a future version. Use pandas.concat instead.\n",
      "  df_grapes = df_grapes.append({'image': image, 'bbox': j, 'area(pixels)': area, 'ratio': ratio, 'area_cm^2': area_cm}, ignore_index=True)\n",
      "C:\\Users\\danim\\AppData\\Local\\Temp\\ipykernel_19904\\3517526329.py:11: FutureWarning: The frame.append method is deprecated and will be removed from pandas in a future version. Use pandas.concat instead.\n",
      "  df_grapes = df_grapes.append({'image': image, 'bbox': j, 'area(pixels)': area, 'ratio': ratio, 'area_cm^2': area_cm}, ignore_index=True)\n",
      "C:\\Users\\danim\\AppData\\Local\\Temp\\ipykernel_19904\\3517526329.py:11: FutureWarning: The frame.append method is deprecated and will be removed from pandas in a future version. Use pandas.concat instead.\n",
      "  df_grapes = df_grapes.append({'image': image, 'bbox': j, 'area(pixels)': area, 'ratio': ratio, 'area_cm^2': area_cm}, ignore_index=True)\n",
      "C:\\Users\\danim\\AppData\\Local\\Temp\\ipykernel_19904\\3517526329.py:11: FutureWarning: The frame.append method is deprecated and will be removed from pandas in a future version. Use pandas.concat instead.\n",
      "  df_grapes = df_grapes.append({'image': image, 'bbox': j, 'area(pixels)': area, 'ratio': ratio, 'area_cm^2': area_cm}, ignore_index=True)\n",
      "C:\\Users\\danim\\AppData\\Local\\Temp\\ipykernel_19904\\3517526329.py:11: FutureWarning: The frame.append method is deprecated and will be removed from pandas in a future version. Use pandas.concat instead.\n",
      "  df_grapes = df_grapes.append({'image': image, 'bbox': j, 'area(pixels)': area, 'ratio': ratio, 'area_cm^2': area_cm}, ignore_index=True)\n",
      "C:\\Users\\danim\\AppData\\Local\\Temp\\ipykernel_19904\\3517526329.py:11: FutureWarning: The frame.append method is deprecated and will be removed from pandas in a future version. Use pandas.concat instead.\n",
      "  df_grapes = df_grapes.append({'image': image, 'bbox': j, 'area(pixels)': area, 'ratio': ratio, 'area_cm^2': area_cm}, ignore_index=True)\n",
      "C:\\Users\\danim\\AppData\\Local\\Temp\\ipykernel_19904\\3517526329.py:11: FutureWarning: The frame.append method is deprecated and will be removed from pandas in a future version. Use pandas.concat instead.\n",
      "  df_grapes = df_grapes.append({'image': image, 'bbox': j, 'area(pixels)': area, 'ratio': ratio, 'area_cm^2': area_cm}, ignore_index=True)\n"
     ]
    },
    {
     "data": {
      "text/html": [
       "<div>\n",
       "<style scoped>\n",
       "    .dataframe tbody tr th:only-of-type {\n",
       "        vertical-align: middle;\n",
       "    }\n",
       "\n",
       "    .dataframe tbody tr th {\n",
       "        vertical-align: top;\n",
       "    }\n",
       "\n",
       "    .dataframe thead th {\n",
       "        text-align: right;\n",
       "    }\n",
       "</style>\n",
       "<table border=\"1\" class=\"dataframe\">\n",
       "  <thead>\n",
       "    <tr style=\"text-align: right;\">\n",
       "      <th></th>\n",
       "      <th>image</th>\n",
       "      <th>bbox</th>\n",
       "      <th>area(pixels)</th>\n",
       "      <th>ratio</th>\n",
       "      <th>area_cm^2</th>\n",
       "    </tr>\n",
       "  </thead>\n",
       "  <tbody>\n",
       "    <tr>\n",
       "      <th>0</th>\n",
       "      <td>1597909019965_jpg.rf.94d33200a8e36088864356394...</td>\n",
       "      <td>0</td>\n",
       "      <td>24508.350134</td>\n",
       "      <td>76.697098</td>\n",
       "      <td>319.547293</td>\n",
       "    </tr>\n",
       "    <tr>\n",
       "      <th>1</th>\n",
       "      <td>1597909019965_jpg.rf.94d33200a8e36088864356394...</td>\n",
       "      <td>1</td>\n",
       "      <td>15149.590997</td>\n",
       "      <td>76.697098</td>\n",
       "      <td>197.524957</td>\n",
       "    </tr>\n",
       "    <tr>\n",
       "      <th>2</th>\n",
       "      <td>1597909019965_jpg.rf.94d33200a8e36088864356394...</td>\n",
       "      <td>2</td>\n",
       "      <td>12621.103488</td>\n",
       "      <td>76.697098</td>\n",
       "      <td>164.557771</td>\n",
       "    </tr>\n",
       "    <tr>\n",
       "      <th>3</th>\n",
       "      <td>1597909019965_jpg.rf.94d33200a8e36088864356394...</td>\n",
       "      <td>3</td>\n",
       "      <td>14519.760504</td>\n",
       "      <td>76.697098</td>\n",
       "      <td>189.313036</td>\n",
       "    </tr>\n",
       "    <tr>\n",
       "      <th>4</th>\n",
       "      <td>1597911008306_jpg.rf.4c0c6c9d29bef46c581f18c12...</td>\n",
       "      <td>0</td>\n",
       "      <td>19465.704421</td>\n",
       "      <td>60.704642</td>\n",
       "      <td>320.662536</td>\n",
       "    </tr>\n",
       "    <tr>\n",
       "      <th>5</th>\n",
       "      <td>1597911008306_jpg.rf.4c0c6c9d29bef46c581f18c12...</td>\n",
       "      <td>1</td>\n",
       "      <td>12471.029190</td>\n",
       "      <td>60.704642</td>\n",
       "      <td>205.437819</td>\n",
       "    </tr>\n",
       "    <tr>\n",
       "      <th>6</th>\n",
       "      <td>1597911008306_jpg.rf.4c0c6c9d29bef46c581f18c12...</td>\n",
       "      <td>2</td>\n",
       "      <td>18242.800031</td>\n",
       "      <td>60.704642</td>\n",
       "      <td>300.517382</td>\n",
       "    </tr>\n",
       "    <tr>\n",
       "      <th>7</th>\n",
       "      <td>1597911008306_jpg.rf.4c0c6c9d29bef46c581f18c12...</td>\n",
       "      <td>3</td>\n",
       "      <td>29023.252343</td>\n",
       "      <td>60.704642</td>\n",
       "      <td>478.105981</td>\n",
       "    </tr>\n",
       "    <tr>\n",
       "      <th>8</th>\n",
       "      <td>1597911008306_jpg.rf.4c0c6c9d29bef46c581f18c12...</td>\n",
       "      <td>4</td>\n",
       "      <td>10074.247989</td>\n",
       "      <td>60.704642</td>\n",
       "      <td>165.955151</td>\n",
       "    </tr>\n",
       "    <tr>\n",
       "      <th>9</th>\n",
       "      <td>1597911008306_jpg.rf.4c0c6c9d29bef46c581f18c12...</td>\n",
       "      <td>5</td>\n",
       "      <td>17627.684639</td>\n",
       "      <td>60.704642</td>\n",
       "      <td>290.384460</td>\n",
       "    </tr>\n",
       "  </tbody>\n",
       "</table>\n",
       "</div>"
      ],
      "text/plain": [
       "                                               image  bbox  area(pixels)  \\\n",
       "0  1597909019965_jpg.rf.94d33200a8e36088864356394...     0  24508.350134   \n",
       "1  1597909019965_jpg.rf.94d33200a8e36088864356394...     1  15149.590997   \n",
       "2  1597909019965_jpg.rf.94d33200a8e36088864356394...     2  12621.103488   \n",
       "3  1597909019965_jpg.rf.94d33200a8e36088864356394...     3  14519.760504   \n",
       "4  1597911008306_jpg.rf.4c0c6c9d29bef46c581f18c12...     0  19465.704421   \n",
       "5  1597911008306_jpg.rf.4c0c6c9d29bef46c581f18c12...     1  12471.029190   \n",
       "6  1597911008306_jpg.rf.4c0c6c9d29bef46c581f18c12...     2  18242.800031   \n",
       "7  1597911008306_jpg.rf.4c0c6c9d29bef46c581f18c12...     3  29023.252343   \n",
       "8  1597911008306_jpg.rf.4c0c6c9d29bef46c581f18c12...     4  10074.247989   \n",
       "9  1597911008306_jpg.rf.4c0c6c9d29bef46c581f18c12...     5  17627.684639   \n",
       "\n",
       "       ratio   area_cm^2  \n",
       "0  76.697098  319.547293  \n",
       "1  76.697098  197.524957  \n",
       "2  76.697098  164.557771  \n",
       "3  76.697098  189.313036  \n",
       "4  60.704642  320.662536  \n",
       "5  60.704642  205.437819  \n",
       "6  60.704642  300.517382  \n",
       "7  60.704642  478.105981  \n",
       "8  60.704642  165.955151  \n",
       "9  60.704642  290.384460  "
      ]
     },
     "execution_count": 119,
     "metadata": {},
     "output_type": "execute_result"
    }
   ],
   "source": [
    "df_grapes = pd.DataFrame()\n",
    "\n",
    "for i in range(len(results_grapes)):\n",
    "    image = results_qr[i][1].path.split('\\\\')[-1]\n",
    "    area = []\n",
    "    for j in range(len(results_grapes[i].boxes)):\n",
    "        bbox = results_grapes[i].boxes[j].xyxy.tolist()[0]\n",
    "        area = (bbox[2] - bbox[0]) * (bbox[3] - bbox[1])\n",
    "        ratio = df_qr[df_qr['image'] == image]['ratio'].values[0]\n",
    "        area_cm = area / ratio\n",
    "        df_grapes = df_grapes.append({'image': image, 'bbox': j, 'area(pixels)': area, 'ratio': ratio, 'area_cm^2': area_cm}, ignore_index=True)\n",
    "\n",
    "df_grapes.head(10)"
   ]
  }
 ],
 "metadata": {
  "kernelspec": {
   "display_name": "base",
   "language": "python",
   "name": "python3"
  },
  "language_info": {
   "codemirror_mode": {
    "name": "ipython",
    "version": 3
   },
   "file_extension": ".py",
   "mimetype": "text/x-python",
   "name": "python",
   "nbconvert_exporter": "python",
   "pygments_lexer": "ipython3",
   "version": "3.8.16"
  },
  "orig_nbformat": 4
 },
 "nbformat": 4,
 "nbformat_minor": 2
}
