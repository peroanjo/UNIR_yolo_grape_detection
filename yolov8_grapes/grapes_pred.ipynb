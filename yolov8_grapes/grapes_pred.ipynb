{
 "cells": [
  {
   "cell_type": "code",
   "execution_count": 1,
   "metadata": {},
   "outputs": [
    {
     "data": {
      "text/plain": [
       "False"
      ]
     },
     "execution_count": 1,
     "metadata": {},
     "output_type": "execute_result"
    }
   ],
   "source": [
    "import torch\n",
    "from ultralytics import YOLO\n",
    "torch.has_mps"
   ]
  },
  {
   "cell_type": "code",
   "execution_count": 18,
   "metadata": {},
   "outputs": [
    {
     "name": "stderr",
     "output_type": "stream",
     "text": [
      "\n",
      "image 1/49 C:\\Users\\danim\\Documents\\yolov8_grapes\\dataset_grapes\\valid\\images\\1597908100538_jpg.rf.23f383e72315c93e66daa1cfc92a13d4.jpg: 800x608 2 QRs, 258.9ms\n",
      "image 2/49 C:\\Users\\danim\\Documents\\yolov8_grapes\\dataset_grapes\\valid\\images\\1597908636863_jpg.rf.177a5c37e9035e6b6c7fdfc646418077.jpg: 608x800 1 QR, 210.5ms\n",
      "image 3/49 C:\\Users\\danim\\Documents\\yolov8_grapes\\dataset_grapes\\valid\\images\\1597909019965_jpg.rf.95373adfebbeb8da80dd208a6acc759d.jpg: 800x608 2 QRs, 233.4ms\n",
      "image 4/49 C:\\Users\\danim\\Documents\\yolov8_grapes\\dataset_grapes\\valid\\images\\1597909754673_jpg.rf.bc840e51a9c7c80f99d17cc034a73adf.jpg: 608x800 2 QRs, 225.4ms\n",
      "image 5/49 C:\\Users\\danim\\Documents\\yolov8_grapes\\dataset_grapes\\valid\\images\\1597910269342_jpg.rf.b3b5a7a71773b3afdff870bdafbb5a82.jpg: 800x608 1 QR, 203.5ms\n",
      "image 6/49 C:\\Users\\danim\\Documents\\yolov8_grapes\\dataset_grapes\\valid\\images\\1597911495730_jpg.rf.44911117e1fb7d8c108770fa83f53764.jpg: 800x608 1 QR, 241.9ms\n",
      "image 7/49 C:\\Users\\danim\\Documents\\yolov8_grapes\\dataset_grapes\\valid\\images\\1597912869100_jpg.rf.903775d559f135d252b82a155526f8ba.jpg: 800x608 2 QRs, 220.5ms\n",
      "image 8/49 C:\\Users\\danim\\Documents\\yolov8_grapes\\dataset_grapes\\valid\\images\\1597913693056_jpg.rf.3a69cbccaa88fb54872dbff53f3b177d.jpg: 800x608 2 QRs, 235.4ms\n",
      "image 9/49 C:\\Users\\danim\\Documents\\yolov8_grapes\\dataset_grapes\\valid\\images\\1597914087510_jpg.rf.42fc7897af2312780c4e8e217defa473.jpg: 800x608 2 QRs, 216.5ms\n",
      "image 10/49 C:\\Users\\danim\\Documents\\yolov8_grapes\\dataset_grapes\\valid\\images\\1597918930345_jpg.rf.37e712f59fbdeb2bb8e6be4499c49d7c.jpg: 608x800 2 QRs, 220.4ms\n",
      "image 11/49 C:\\Users\\danim\\Documents\\yolov8_grapes\\dataset_grapes\\valid\\images\\1597919035509_jpg.rf.dc6bb55702337e0d6f1db58d76b0a313.jpg: 608x800 2 QRs, 229.1ms\n",
      "image 12/49 C:\\Users\\danim\\Documents\\yolov8_grapes\\dataset_grapes\\valid\\images\\1597919580231_jpg.rf.bde4bf9427c35b5510dad96afabf3ed2.jpg: 608x800 1 QR, 188.1ms\n",
      "image 13/49 C:\\Users\\danim\\Documents\\yolov8_grapes\\dataset_grapes\\valid\\images\\1597919795757_jpg.rf.efa5fcf4df8a71258c364e0b3acbde15.jpg: 608x800 2 QRs, 255.5ms\n",
      "image 14/49 C:\\Users\\danim\\Documents\\yolov8_grapes\\dataset_grapes\\valid\\images\\1597920057478_jpg.rf.d5e145bb929dea72c21a099b4b4f6448.jpg: 608x800 1 QR, 250.2ms\n",
      "image 15/49 C:\\Users\\danim\\Documents\\yolov8_grapes\\dataset_grapes\\valid\\images\\1597920110445_jpg.rf.83168593a65410e1cb7e0d439bca9887.jpg: 800x608 2 QRs, 204.0ms\n",
      "image 16/49 C:\\Users\\danim\\Documents\\yolov8_grapes\\dataset_grapes\\valid\\images\\1597920475009_jpg.rf.35ba082aa79adf3eff757ed8874ced52.jpg: 608x800 2 QRs, 438.2ms\n",
      "image 17/49 C:\\Users\\danim\\Documents\\yolov8_grapes\\dataset_grapes\\valid\\images\\1597922846645_jpg.rf.ba0d696a661de5c44f59232217ecaa9d.jpg: 800x608 2 QRs, 367.6ms\n",
      "image 18/49 C:\\Users\\danim\\Documents\\yolov8_grapes\\dataset_grapes\\valid\\images\\1597924484364_jpg.rf.b794b177077aa9bc318b219250331742.jpg: 608x800 2 QRs, 315.6ms\n",
      "image 19/49 C:\\Users\\danim\\Documents\\yolov8_grapes\\dataset_grapes\\valid\\images\\1597924845589_jpg.rf.bd1530fcbbf35cf7c9c075e5c56ed162.jpg: 608x800 1 QR, 249.8ms\n",
      "image 20/49 C:\\Users\\danim\\Documents\\yolov8_grapes\\dataset_grapes\\valid\\images\\1597934175548_jpg.rf.5eedd74d80179168c8336bf6fa63226f.jpg: 608x800 1 QR, 225.0ms\n",
      "image 21/49 C:\\Users\\danim\\Documents\\yolov8_grapes\\dataset_grapes\\valid\\images\\1597992887356_jpg.rf.a7f734844b29541a4d4b9bb778fe17c6.jpg: 608x800 1 QR, 263.1ms\n",
      "image 22/49 C:\\Users\\danim\\Documents\\yolov8_grapes\\dataset_grapes\\valid\\images\\1597993691241_jpg.rf.9a73861cb4a6c6d0731c844e2a17ba31.jpg: 608x800 1 QR, 273.7ms\n",
      "image 23/49 C:\\Users\\danim\\Documents\\yolov8_grapes\\dataset_grapes\\valid\\images\\1597995246360_jpg.rf.071d76f0b31d6ce42e6981a785536f90.jpg: 608x800 2 QRs, 248.5ms\n",
      "image 24/49 C:\\Users\\danim\\Documents\\yolov8_grapes\\dataset_grapes\\valid\\images\\1597995462266_jpg.rf.476446eb609d62dd85edbfd7f2d2c41e.jpg: 608x800 2 QRs, 242.3ms\n",
      "image 25/49 C:\\Users\\danim\\Documents\\yolov8_grapes\\dataset_grapes\\valid\\images\\1597996402832_jpg.rf.125000afd802f7a9a29e73d466909aa1.jpg: 608x800 2 QRs, 257.0ms\n",
      "image 26/49 C:\\Users\\danim\\Documents\\yolov8_grapes\\dataset_grapes\\valid\\images\\1597997331173_jpg.rf.47d3dc7c2701774826487aaa112cc7ce.jpg: 608x800 (no detections), 268.1ms\n",
      "image 27/49 C:\\Users\\danim\\Documents\\yolov8_grapes\\dataset_grapes\\valid\\images\\1598000594057_jpg.rf.c7da1970ce514708c2868a146c532392.jpg: 608x800 1 QR, 348.1ms\n",
      "image 28/49 C:\\Users\\danim\\Documents\\yolov8_grapes\\dataset_grapes\\valid\\images\\1598001818948_jpg.rf.583aeb8bbb2589b4ce668e304b32a9de.jpg: 608x800 2 QRs, 272.3ms\n",
      "image 29/49 C:\\Users\\danim\\Documents\\yolov8_grapes\\dataset_grapes\\valid\\images\\1598002405071_jpg.rf.c5c8ccb9941d77599d643361df82429c.jpg: 608x800 1 QR, 295.8ms\n",
      "image 30/49 C:\\Users\\danim\\Documents\\yolov8_grapes\\dataset_grapes\\valid\\images\\1598004287055_jpg.rf.32e3f2c002fdef101effc625727650c1.jpg: 608x800 2 QRs, 287.7ms\n",
      "image 31/49 C:\\Users\\danim\\Documents\\yolov8_grapes\\dataset_grapes\\valid\\images\\1598004660479_jpg.rf.e87280efe0cda9f3d2008e8dbdee3f5c.jpg: 608x800 2 QRs, 273.8ms\n",
      "image 32/49 C:\\Users\\danim\\Documents\\yolov8_grapes\\dataset_grapes\\valid\\images\\1598005082790_jpg.rf.f4cd563e2b0177eb077cd62c278dd373.jpg: 608x800 1 QR, 234.4ms\n",
      "image 33/49 C:\\Users\\danim\\Documents\\yolov8_grapes\\dataset_grapes\\valid\\images\\1598010992080_jpg.rf.550560ac3a7dde55ffebd3fae835a1ac.jpg: 608x800 2 QRs, 245.4ms\n",
      "image 34/49 C:\\Users\\danim\\Documents\\yolov8_grapes\\dataset_grapes\\valid\\images\\1598012068631_jpg.rf.6c9fe979ba1d309b1939f50037855376.jpg: 608x800 2 QRs, 279.3ms\n",
      "image 35/49 C:\\Users\\danim\\Documents\\yolov8_grapes\\dataset_grapes\\valid\\images\\1598341506635_jpg.rf.445cc0354001a6cec00ac71233cb2274.jpg: 608x800 1 QR, 283.8ms\n",
      "image 36/49 C:\\Users\\danim\\Documents\\yolov8_grapes\\dataset_grapes\\valid\\images\\1598345258735_jpg.rf.3ad77dc451073dffb90559f214bbef2e.jpg: 608x800 2 QRs, 270.1ms\n",
      "image 37/49 C:\\Users\\danim\\Documents\\yolov8_grapes\\dataset_grapes\\valid\\images\\1599030697295_jpg.rf.7ef800000af74ebe1e7e4ba6553ed1c8.jpg: 608x800 (no detections), 257.4ms\n",
      "image 38/49 C:\\Users\\danim\\Documents\\yolov8_grapes\\dataset_grapes\\valid\\images\\1599636442252_jpg.rf.76d0cc774a1a59fab534e049fd6a6ab8.jpg: 608x800 (no detections), 269.3ms\n",
      "image 39/49 C:\\Users\\danim\\Documents\\yolov8_grapes\\dataset_grapes\\valid\\images\\1600242549042_jpg.rf.477211ca3c1f29705856438cb0bca2f7.jpg: 608x800 1 QR, 264.3ms\n",
      "image 40/49 C:\\Users\\danim\\Documents\\yolov8_grapes\\dataset_grapes\\valid\\images\\1600245553180_jpg.rf.5ecd9fa8af84f0c3647e1561f134fa9e.jpg: 608x800 1 QR, 247.9ms\n",
      "image 41/49 C:\\Users\\danim\\Documents\\yolov8_grapes\\dataset_grapes\\valid\\images\\1600843211949_jpg.rf.8b6e320cd0d385c1eaa2bbe91e683e39.jpg: 608x800 1 QR, 286.8ms\n",
      "image 42/49 C:\\Users\\danim\\Documents\\yolov8_grapes\\dataset_grapes\\valid\\images\\1600846481458_jpg.rf.d9c630e29d413f9a6b526bb08c3619db.jpg: 608x800 1 QR, 272.8ms\n",
      "image 43/49 C:\\Users\\danim\\Documents\\yolov8_grapes\\dataset_grapes\\valid\\images\\1600848247301_jpg.rf.37b3f66f4e2487fd1315103dd3747156.jpg: 608x800 1 QR, 267.9ms\n",
      "image 44/49 C:\\Users\\danim\\Documents\\yolov8_grapes\\dataset_grapes\\valid\\images\\1601546902713_jpg.rf.2210f6c48fa516ff37091333b555f690.jpg: 608x800 1 QR, 229.5ms\n",
      "image 45/49 C:\\Users\\danim\\Documents\\yolov8_grapes\\dataset_grapes\\valid\\images\\1601981598827_jpg.rf.f73229b7a51a4abb5fcbd896d4edee9f.jpg: 608x800 1 QR, 308.8ms\n",
      "image 46/49 C:\\Users\\danim\\Documents\\yolov8_grapes\\dataset_grapes\\valid\\images\\1602149490446_jpg.rf.e53a7a3aa3a281682505679f15d1db1f.jpg: 608x800 1 QR, 241.4ms\n",
      "image 47/49 C:\\Users\\danim\\Documents\\yolov8_grapes\\dataset_grapes\\valid\\images\\1606995463632_jpg.rf.4ceff882e5ddcf7aba6c86406bfd4160.jpg: 608x800 1 QR, 576.6ms\n",
      "image 48/49 C:\\Users\\danim\\Documents\\yolov8_grapes\\dataset_grapes\\valid\\images\\1606995956803_jpg.rf.f1419b7b207dc9f27294dedcab0ebfdb.jpg: 608x800 1 QR, 277.3ms\n",
      "image 49/49 C:\\Users\\danim\\Documents\\yolov8_grapes\\dataset_grapes\\valid\\images\\1606996024118_jpg.rf.f43eace92f81cf96b2a9d1acb62eb7e9.jpg: 608x800 1 QR, 207.5ms\n",
      "Speed: 8.8ms preprocess, 266.1ms inference, 1.4ms postprocess per image at shape (1, 3, 800, 800)\n",
      "Results saved to \u001b[1mruns\\detect\\predict6\u001b[0m\n",
      "46 labels saved to runs\\detect\\predict6\\labels\n"
     ]
    }
   ],
   "source": [
    "model = YOLO(r\"C:\\Users\\danim\\Documents\\yolov8_grapes\\runs\\detect\\train\\weights\\best.pt\")\n",
    "results = model.predict(source=r\"C:\\Users\\danim\\Documents\\yolov8_grapes\\dataset_grapes\\valid\\images\", save=True, save_txt=True, agnostic_nms=False, iou=0.25, line_width=5, conf=0.01, show_labels=True)"
   ]
  }
 ],
 "metadata": {
  "kernelspec": {
   "display_name": "yolo_env",
   "language": "python",
   "name": "python3"
  },
  "language_info": {
   "codemirror_mode": {
    "name": "ipython",
    "version": 3
   },
   "file_extension": ".py",
   "mimetype": "text/x-python",
   "name": "python",
   "nbconvert_exporter": "python",
   "pygments_lexer": "ipython3",
   "version": "3.8.8"
  },
  "orig_nbformat": 4
 },
 "nbformat": 4,
 "nbformat_minor": 2
}
